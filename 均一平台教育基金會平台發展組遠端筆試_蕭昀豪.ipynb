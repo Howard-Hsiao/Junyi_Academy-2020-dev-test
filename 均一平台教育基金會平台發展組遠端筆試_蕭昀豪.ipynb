{
 "cells": [
  {
   "cell_type": "markdown",
   "metadata": {},
   "source": [
    "### 均一平台教育基金會平台發展組遠端筆試\n",
    "<p>申請者：蕭昀豪</p>\n",
    "<p>測驗時間限制：共 45 分鐘</p>\n",
    "<p>開始時間　　：8/23 7:30</p>\n",
    "<p>結束時間　　：8/23 8:15</p>\n",
    "<p>花費時間　　：共 45 分鐘</p>"
   ]
  },
  {
   "cell_type": "markdown",
   "metadata": {},
   "source": [
    "#### 1 \n",
    "* (A) 請寫一個程式把裡面的字串反過來。\n",
    "* (B) 請寫一個程式把裡面的字串，每個單字本身做反轉，但是單字的順序不變。\n",
    "* (加分題) 請為你的程式寫 unit test。"
   ]
  },
  {
   "cell_type": "code",
   "execution_count": 9,
   "metadata": {},
   "outputs": [],
   "source": [
    "def reverseA(inputStr:str):\n",
    "    if(not isinstance(inputStr, str)):\n",
    "        raise TypeError(\"[!] Your input should be string. \")\n",
    "        \n",
    "    return inputStr[::-1]\n",
    "\n",
    "def reverseB(inputStr:str):\n",
    "    if(not isinstance(inputStr, str)):\n",
    "        raise TypeError(\"[!] Your input should be string. \")\n",
    "        \n",
    "    strList = inputStr.split()\n",
    "    strList = [i[::-1] for i in strList]\n",
    "    strList = \" \".join(strList)\n",
    "    \n",
    "    return strList"
   ]
  },
  {
   "cell_type": "code",
   "execution_count": 38,
   "metadata": {},
   "outputs": [
    {
     "name": "stderr",
     "output_type": "stream",
     "text": [
      "........\n",
      "----------------------------------------------------------------------\n",
      "Ran 8 tests in 0.005s\n",
      "\n",
      "OK\n"
     ]
    }
   ],
   "source": [
    "import unittest\n",
    "\n",
    "class TestReverseMethods(unittest.TestCase):\n",
    "    \n",
    "    def setUp(self):\n",
    "        self.testStr = \"flipped class room is important\"\n",
    "    \n",
    "    def test_reverseA(self):\n",
    "        expected = \"tnatropmi si moor ssalc deppilf\"\n",
    "        self.assertEqual(reverseA(self.testStr), expected)\n",
    "\n",
    "    def test_reverseB(self):\n",
    "        expected = \"deppilf ssalc moor si tnatropmi\"\n",
    "        self.assertEqual(reverseB(self.testStr), expected)\n",
    "\n",
    "    def test_typeError(self):\n",
    "        self.assertRaises(TypeError, reverseA, 0)\n",
    "        self.assertRaises(TypeError, reverseB, 0)\n",
    "        \n",
    "if __name__ == '__main__':\n",
    "    # the argument of unittest.manin is to enable unittest to be used in jupyter notebook\n",
    "    unittest.main(argv=['first-arg-is-ignored'], exit=False)"
   ]
  },
  {
   "cell_type": "markdown",
   "metadata": {},
   "source": [
    "#### 2\n",
    "* 請寫一個程式，Input 是一個數字，Output 是從 1 到這個數字，扣除掉所有 3 的倍\n",
    "數以及 5 的倍數，但是需要保留同時是 3 和 5 的倍數的總數字數。\n",
    "* (加分題) 請為你的程式寫 unit test。"
   ]
  },
  {
   "cell_type": "code",
   "execution_count": 52,
   "metadata": {},
   "outputs": [],
   "source": [
    "def specialNum(inputNum):\n",
    "    if(not (isinstance(inputNum, int) or isinstance(inputNum, float))):\n",
    "        raise TypeError(\"[!] Your input should be a number. \")\n",
    "    if isinstance(inputNum, float):\n",
    "        if(int(inputNum) != inputNum):\n",
    "            raise TypeError(\"[!] You number should be an integer. \")\n",
    "        inputNum = int(inputNum)\n",
    "    \n",
    "    intersect = int(inputNum // 15)\n",
    "    three_num = int(inputNum // 3)\n",
    "    five_num = int(inputNum // 5)    \n",
    "    return inputNum - three_num - five_num + 2 * intersect"
   ]
  },
  {
   "cell_type": "code",
   "execution_count": 59,
   "metadata": {},
   "outputs": [
    {
     "name": "stderr",
     "output_type": "stream",
     "text": [
      "........\n",
      "----------------------------------------------------------------------\n",
      "Ran 8 tests in 0.005s\n",
      "\n",
      "OK\n"
     ]
    }
   ],
   "source": [
    "class TestSpecialNum(unittest.TestCase):\n",
    "    \n",
    "    def setUp(self):\n",
    "        self.testNum = 15\n",
    "    \n",
    "    def test_specitalNum(self):\n",
    "        self.assertEqual(specialNum(self.testNum), 9)\n",
    "        \n",
    "    def test_typeError(self):\n",
    "        self.assertRaises(TypeError, specialNum, \"test\")\n",
    "        self.assertRaises(TypeError, specialNum, 15.5)\n",
    "        \n",
    "if __name__ == '__main__':\n",
    "    # the argument of unittest.manin is to enable unittest to be used in jupyter notebook\n",
    "    unittest.main(argv=['first-arg-is-ignored'], exit=False)"
   ]
  },
  {
   "cell_type": "markdown",
   "metadata": {},
   "source": [
    "#### 3\n",
    "房間裡有三個袋子，一個只裝鉛筆，一個只裝原子筆，第三個有鉛筆也有原子筆。\n",
    "袋子是不透明的，單從袋子的外表上看不出任何差異，你不知道哪個袋子裝什麼。\n",
    "除了袋子上各貼了一個標示（\"鉛筆\"、\"原子筆\"、\"混和\"），且標示都是錯的\n",
    "（e.g. 標示鉛筆的袋子可能是混和的或是只裝原子筆）。\n",
    "你只能選一個袋子，拿出裡面一支筆，看是鉛筆還是原子筆，然後你要推論出這三\n",
    "個袋子分別的情況。請列出你的作法，以及解釋為什麼這樣可以找到答案。"
   ]
  },
  {
   "cell_type": "markdown",
   "metadata": {},
   "source": [
    "#### 答案:\n",
    "從\"混合\"標籤的袋子拿出一枝筆來就可以確定3個袋子的內容物。在抽取前，3個袋子內容物只可能如下: \n",
    "\n",
    "標籤　: 真實內容物可能值\n",
    "* 混和　: [鉛筆, 原子筆]\n",
    "* 鉛筆　: [混合, 原子筆]\n",
    "* 原子筆: [混合, 鉛筆]\n",
    "\n",
    "從混合標籤袋取物有2種情況，在此我們舉「抽到物品為鉛筆」為例，當在混合標籤袋中抽到鉛筆，代表混合標籤袋裝的真面目其實是鉛筆袋，此時原子筆標籤袋可以經由刪去法推出它其實是混合袋，接著再經由刪去法，我們可以確認最後剩下的鉛筆標籤袋，一定是原子筆袋。\n",
    "當在混合標籤袋「抽到原子筆」時，我們也可以經由相同思考邏輯判斷出每一袋的真實內容物"
   ]
  },
  {
   "cell_type": "markdown",
   "metadata": {},
   "source": [
    "#### 4. \n",
    "有三個人一起到迪士尼遊玩，中午肚子餓了，去餐廳點了一份現在最夯的冰雪奇緣\n",
    "雙人組，要價 900 元，付錢後，服務生發現今天套餐大特價，只要 750 元，因此\n",
    "服務生應該退還 150 元給這三個人，但是這位服務生一時鬼迷心竅，決定暗槓 60\n",
    "元，只退了 90 元給這三個遊客。\n",
    "那麼：三人各出 300 元 - 服務生還給他們一人 30 元 = 三人各出 270 元。270\n",
    "元 × 3 人+ 服務生私吞的 60 元 = 810 + 60 = 870 !? 怎麼不是 900 元呢？還\n",
    "有 30 元去哪了呢？請用敘述的方式，儘量清楚解釋問題出在哪裡。"
   ]
  },
  {
   "cell_type": "markdown",
   "metadata": {},
   "source": [
    "#### 答案\n",
    "本題唯一的鐵則是收支平衡，我們用此概念去審視題幹即可發現盲點。\n",
    "* 若無特價\n",
    "    * 支: 300元是原先每人應付的錢。\n",
    "    * 收: 300元是原先應對每人收取的金額。\n",
    "\n",
    "* 在題意下\n",
    "    * 支: 270元是原先每人實際付出的錢\n",
    "    * 收: 20元是服務生對每人收的錢\n",
    "    * 收: 250是餐廳實際收到的錢\n",
    "\n",
    "在上述情境下，以此觀點思考都可得出收支平衡的結果。原先題幹的計算方式之所以有誤，原因在於題目試圖用「支 + 收 = 原價」去確認結果，然而「支 + 收」的計算結果不具意義，因此此方法錯誤。應該要用「支 + 服務生退款的錢 = 原價」公式計算才正確。以總價觀點來看，公式為「支(\\$810) + 服務生退款的錢(\\$90) = 原價(\\$900)」"
   ]
  }
 ],
 "metadata": {
  "kernelspec": {
   "display_name": "Python 3",
   "language": "python",
   "name": "python3"
  },
  "language_info": {
   "codemirror_mode": {
    "name": "ipython",
    "version": 3
   },
   "file_extension": ".py",
   "mimetype": "text/x-python",
   "name": "python",
   "nbconvert_exporter": "python",
   "pygments_lexer": "ipython3",
   "version": "3.6.10"
  }
 },
 "nbformat": 4,
 "nbformat_minor": 4
}
